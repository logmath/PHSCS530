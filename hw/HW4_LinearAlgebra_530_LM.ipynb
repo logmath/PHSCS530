{
 "cells": [
  {
   "cell_type": "markdown",
   "id": "a47b0432",
   "metadata": {},
   "source": [
    "# PHSCS 530\n",
    "## HW 3: Linear Algebra\n",
    "#### Logan Mathews"
   ]
  },
  {
   "cell_type": "markdown",
   "id": "88ec52a7",
   "metadata": {},
   "source": [
    "import numpy as np."
   ]
  },
  {
   "cell_type": "markdown",
   "id": "89ad991a",
   "metadata": {},
   "source": [
    "### Problem 1: Condition number, accuracy, and interative updating"
   ]
  },
  {
   "cell_type": "code",
   "execution_count": 3,
   "id": "9088550a",
   "metadata": {},
   "outputs": [],
   "source": [
    "A = np.array([[0.780, 0.563],\n",
    "             [0.913, 0.659]]) # matrix A\n",
    "b = np.array([0.217,0.254]).reshape((2, 1)) # vector b\n",
    "\n",
    "x = np.array([1, -1]).reshape((2, 1)) # exact solution of Ax = b\n",
    "x_alpha = np.array([0.999, -1.001]).reshape((2, 1)) # approximate solution\n",
    "x_beta = np.array([0.341, -0.087]).reshape((2, 1)) # another approximate solution"
   ]
  },
  {
   "cell_type": "markdown",
   "id": "d706087b",
   "metadata": {},
   "source": [
    "#### Part A: Residuals"
   ]
  },
  {
   "cell_type": "code",
   "execution_count": 6,
   "id": "a262bb37",
   "metadata": {},
   "outputs": [
    {
     "name": "stdout",
     "output_type": "stream",
     "text": [
      "The residual for x_alpha is  [[0.001343]\n",
      " [0.001572]]\n",
      "and the residual for r_beta is  [[1.e-06]\n",
      " [0.e+00]]\n"
     ]
    }
   ],
   "source": [
    "r_alpha = b - A@x_alpha\n",
    "r_beta = b - A@x_beta\n",
    "\n",
    "print('The residual for x_alpha is',r_alpha)\n",
    "print('and the residual for r_beta is',r_beta)"
   ]
  },
  {
   "cell_type": "markdown",
   "id": "82cd0630",
   "metadata": {},
   "source": [
    "Curiously, the residual for the less-exact approximate solution ($\\beta$) is smaller."
   ]
  },
  {
   "cell_type": "markdown",
   "id": "4d0a8ed4",
   "metadata": {},
   "source": [
    "#### Part B: Condition Number"
   ]
  },
  {
   "cell_type": "code",
   "execution_count": 29,
   "id": "78ba30ba",
   "metadata": {},
   "outputs": [
    {
     "name": "stdout",
     "output_type": "stream",
     "text": [
      "The condition number of A is 2193218.9997129813\n",
      "We can expect to lose around k = 6.341081999492477  digits of accuracy.\n"
     ]
    }
   ],
   "source": [
    "U, S, Vh = np.linalg.svd(A) # do SVD on matrix A\n",
    "kappa = S[0]/S[1]\n",
    "print('The condition number of A is',kappa)\n",
    "print('We can expect to lose around k =', np.log10(kappa),' digits of accuracy.')"
   ]
  },
  {
   "cell_type": "markdown",
   "id": "5ac0fed9",
   "metadata": {},
   "source": [
    "Yikes! That's a wild condition number! $A$ is definitely ill-conditioned. Using the rule of thumb, we can expect to loose up to 6 digits of accuracy in our numerical calculations."
   ]
  },
  {
   "cell_type": "markdown",
   "id": "650bcb82",
   "metadata": {},
   "source": [
    "#### Part C: Black-Box Solver"
   ]
  },
  {
   "cell_type": "code",
   "execution_count": 27,
   "id": "58f35026",
   "metadata": {},
   "outputs": [
    {
     "name": "stdout",
     "output_type": "stream",
     "text": [
      "The error between the exact and solved solution is [[ 2.30988562e-11]\n",
      " [-3.20018456e-11]]\n"
     ]
    }
   ],
   "source": [
    "x_solve = np.linalg.solve(A,b)\n",
    "err = x - x_solve\n",
    "print('The error between the exact and solved solution is',err)"
   ]
  },
  {
   "cell_type": "code",
   "execution_count": 28,
   "id": "8a4ab7f8",
   "metadata": {},
   "outputs": [
    {
     "name": "stdout",
     "output_type": "stream",
     "text": [
      "Calculating Ax - b yields [[-2.77555756e-17]\n",
      " [ 0.00000000e+00]]\n"
     ]
    }
   ],
   "source": [
    "soln = A@x_solve - b\n",
    "print('Calculating Ax - b yields',soln)"
   ]
  },
  {
   "cell_type": "markdown",
   "id": "6041cf8f",
   "metadata": {},
   "source": [
    "It appears that the solution is plenty accurate, as we get within machine precision of zero from $Ax-b$, so the problem seems to be coming from rounding errors in calculating $A$ and $b$. This jives with what we found from the condition number, since we're getting errors in the range of $10^{-11}$ and machine precision is manifesting here as $~10^{-17}$. We lost six digits of precision, which is what we predicted in Part B from the condition number."
   ]
  },
  {
   "cell_type": "markdown",
   "id": "bf1b3cec",
   "metadata": {},
   "source": [
    "#### Part D: Iterative Improvement"
   ]
  },
  {
   "cell_type": "code",
   "execution_count": null,
   "id": "2602e377",
   "metadata": {},
   "outputs": [],
   "source": []
  }
 ],
 "metadata": {
  "kernelspec": {
   "display_name": "Python 3 (ipykernel)",
   "language": "python",
   "name": "python3"
  },
  "language_info": {
   "codemirror_mode": {
    "name": "ipython",
    "version": 3
   },
   "file_extension": ".py",
   "mimetype": "text/x-python",
   "name": "python",
   "nbconvert_exporter": "python",
   "pygments_lexer": "ipython3",
   "version": "3.9.12"
  },
  "varInspector": {
   "cols": {
    "lenName": 16,
    "lenType": 16,
    "lenVar": 40
   },
   "kernels_config": {
    "python": {
     "delete_cmd_postfix": "",
     "delete_cmd_prefix": "del ",
     "library": "var_list.py",
     "varRefreshCmd": "print(var_dic_list())"
    },
    "r": {
     "delete_cmd_postfix": ") ",
     "delete_cmd_prefix": "rm(",
     "library": "var_list.r",
     "varRefreshCmd": "cat(var_dic_list()) "
    }
   },
   "types_to_exclude": [
    "module",
    "function",
    "builtin_function_or_method",
    "instance",
    "_Feature"
   ],
   "window_display": false
  }
 },
 "nbformat": 4,
 "nbformat_minor": 5
}
